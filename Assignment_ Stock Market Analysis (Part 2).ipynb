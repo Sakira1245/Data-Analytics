{
 "cells": [
  {
   "cell_type": "markdown",
   "id": "ab1a2e23",
   "metadata": {},
   "source": [
    "# Import the necessary libraries"
   ]
  },
  {
   "cell_type": "code",
   "execution_count": 1,
   "id": "4566d00e",
   "metadata": {},
   "outputs": [],
   "source": [
    "import pandas as pd\n",
    "import numpy as np\n",
    "import matplotlib as mlb # data visulaization er jnno\n",
    "import matplotlib.pyplot as plt\n",
    "import seaborn as sns #statistical visualization er jnno kaje lage"
   ]
  },
  {
   "cell_type": "code",
   "execution_count": 2,
   "id": "5c74250e",
   "metadata": {},
   "outputs": [
    {
     "data": {
      "text/html": [
       "<div>\n",
       "<style scoped>\n",
       "    .dataframe tbody tr th:only-of-type {\n",
       "        vertical-align: middle;\n",
       "    }\n",
       "\n",
       "    .dataframe tbody tr th {\n",
       "        vertical-align: top;\n",
       "    }\n",
       "\n",
       "    .dataframe thead th {\n",
       "        text-align: right;\n",
       "    }\n",
       "</style>\n",
       "<table border=\"1\" class=\"dataframe\">\n",
       "  <thead>\n",
       "    <tr style=\"text-align: right;\">\n",
       "      <th></th>\n",
       "      <th>Date</th>\n",
       "      <th>Name</th>\n",
       "      <th>Open</th>\n",
       "      <th>High</th>\n",
       "      <th>Low</th>\n",
       "      <th>Close</th>\n",
       "      <th>Volume</th>\n",
       "    </tr>\n",
       "  </thead>\n",
       "  <tbody>\n",
       "    <tr>\n",
       "      <th>0</th>\n",
       "      <td>02-01-2022</td>\n",
       "      <td>01.Bank</td>\n",
       "      <td>22.83</td>\n",
       "      <td>23.20</td>\n",
       "      <td>22.59</td>\n",
       "      <td>22.93</td>\n",
       "      <td>1842350.41</td>\n",
       "    </tr>\n",
       "    <tr>\n",
       "      <th>1</th>\n",
       "      <td>03-01-2022</td>\n",
       "      <td>01.Bank</td>\n",
       "      <td>23.03</td>\n",
       "      <td>23.29</td>\n",
       "      <td>22.74</td>\n",
       "      <td>22.90</td>\n",
       "      <td>1664989.63</td>\n",
       "    </tr>\n",
       "    <tr>\n",
       "      <th>2</th>\n",
       "      <td>04-01-2022</td>\n",
       "      <td>01.Bank</td>\n",
       "      <td>22.85</td>\n",
       "      <td>23.13</td>\n",
       "      <td>22.64</td>\n",
       "      <td>22.84</td>\n",
       "      <td>1354510.97</td>\n",
       "    </tr>\n",
       "    <tr>\n",
       "      <th>3</th>\n",
       "      <td>05-01-2022</td>\n",
       "      <td>01.Bank</td>\n",
       "      <td>22.91</td>\n",
       "      <td>23.20</td>\n",
       "      <td>22.70</td>\n",
       "      <td>22.98</td>\n",
       "      <td>1564334.81</td>\n",
       "    </tr>\n",
       "    <tr>\n",
       "      <th>4</th>\n",
       "      <td>06-01-2022</td>\n",
       "      <td>01.Bank</td>\n",
       "      <td>23.12</td>\n",
       "      <td>23.65</td>\n",
       "      <td>23.00</td>\n",
       "      <td>23.37</td>\n",
       "      <td>2586344.19</td>\n",
       "    </tr>\n",
       "  </tbody>\n",
       "</table>\n",
       "</div>"
      ],
      "text/plain": [
       "         Date     Name   Open   High    Low  Close      Volume\n",
       "0  02-01-2022  01.Bank  22.83  23.20  22.59  22.93  1842350.41\n",
       "1  03-01-2022  01.Bank  23.03  23.29  22.74  22.90  1664989.63\n",
       "2  04-01-2022  01.Bank  22.85  23.13  22.64  22.84  1354510.97\n",
       "3  05-01-2022  01.Bank  22.91  23.20  22.70  22.98  1564334.81\n",
       "4  06-01-2022  01.Bank  23.12  23.65  23.00  23.37  2586344.19"
      ]
     },
     "execution_count": 2,
     "metadata": {},
     "output_type": "execute_result"
    }
   ],
   "source": [
    "stock_data=pd.read_csv('Stock_Market_Data.csv')\n",
    "stock_data.head()"
   ]
  },
  {
   "cell_type": "markdown",
   "id": "c58312ed",
   "metadata": {},
   "source": [
    "# Loading the dataset with pandas"
   ]
  },
  {
   "cell_type": "code",
   "execution_count": 3,
   "id": "1ebfccd0",
   "metadata": {},
   "outputs": [
    {
     "data": {
      "text/html": [
       "<div>\n",
       "<style scoped>\n",
       "    .dataframe tbody tr th:only-of-type {\n",
       "        vertical-align: middle;\n",
       "    }\n",
       "\n",
       "    .dataframe tbody tr th {\n",
       "        vertical-align: top;\n",
       "    }\n",
       "\n",
       "    .dataframe thead th {\n",
       "        text-align: right;\n",
       "    }\n",
       "</style>\n",
       "<table border=\"1\" class=\"dataframe\">\n",
       "  <thead>\n",
       "    <tr style=\"text-align: right;\">\n",
       "      <th></th>\n",
       "      <th>Date</th>\n",
       "      <th>Name</th>\n",
       "      <th>Open</th>\n",
       "      <th>High</th>\n",
       "      <th>Low</th>\n",
       "      <th>Close</th>\n",
       "      <th>Volume</th>\n",
       "    </tr>\n",
       "  </thead>\n",
       "  <tbody>\n",
       "    <tr>\n",
       "      <th>0</th>\n",
       "      <td>02-01-2022</td>\n",
       "      <td>01.Bank</td>\n",
       "      <td>22.83</td>\n",
       "      <td>23.20</td>\n",
       "      <td>22.59</td>\n",
       "      <td>22.93</td>\n",
       "      <td>1842350.41</td>\n",
       "    </tr>\n",
       "    <tr>\n",
       "      <th>1</th>\n",
       "      <td>03-01-2022</td>\n",
       "      <td>01.Bank</td>\n",
       "      <td>23.03</td>\n",
       "      <td>23.29</td>\n",
       "      <td>22.74</td>\n",
       "      <td>22.90</td>\n",
       "      <td>1664989.63</td>\n",
       "    </tr>\n",
       "    <tr>\n",
       "      <th>2</th>\n",
       "      <td>04-01-2022</td>\n",
       "      <td>01.Bank</td>\n",
       "      <td>22.85</td>\n",
       "      <td>23.13</td>\n",
       "      <td>22.64</td>\n",
       "      <td>22.84</td>\n",
       "      <td>1354510.97</td>\n",
       "    </tr>\n",
       "    <tr>\n",
       "      <th>3</th>\n",
       "      <td>05-01-2022</td>\n",
       "      <td>01.Bank</td>\n",
       "      <td>22.91</td>\n",
       "      <td>23.20</td>\n",
       "      <td>22.70</td>\n",
       "      <td>22.98</td>\n",
       "      <td>1564334.81</td>\n",
       "    </tr>\n",
       "    <tr>\n",
       "      <th>4</th>\n",
       "      <td>06-01-2022</td>\n",
       "      <td>01.Bank</td>\n",
       "      <td>23.12</td>\n",
       "      <td>23.65</td>\n",
       "      <td>23.00</td>\n",
       "      <td>23.37</td>\n",
       "      <td>2586344.19</td>\n",
       "    </tr>\n",
       "  </tbody>\n",
       "</table>\n",
       "</div>"
      ],
      "text/plain": [
       "         Date     Name   Open   High    Low  Close      Volume\n",
       "0  02-01-2022  01.Bank  22.83  23.20  22.59  22.93  1842350.41\n",
       "1  03-01-2022  01.Bank  23.03  23.29  22.74  22.90  1664989.63\n",
       "2  04-01-2022  01.Bank  22.85  23.13  22.64  22.84  1354510.97\n",
       "3  05-01-2022  01.Bank  22.91  23.20  22.70  22.98  1564334.81\n",
       "4  06-01-2022  01.Bank  23.12  23.65  23.00  23.37  2586344.19"
      ]
     },
     "execution_count": 3,
     "metadata": {},
     "output_type": "execute_result"
    }
   ],
   "source": [
    "# Read the CSV file\n",
    "stock_data = pd.read_csv('Stock_Market_Data.csv')\n",
    "# 1st 5 rows of dataset\n",
    "stock_data.head()"
   ]
  },
  {
   "cell_type": "markdown",
   "id": "f0b910d9",
   "metadata": {},
   "source": [
    "# Exploratory Data Analysis (EDA)"
   ]
  },
  {
   "cell_type": "code",
   "execution_count": 4,
   "id": "f0d9eead",
   "metadata": {},
   "outputs": [
    {
     "name": "stdout",
     "output_type": "stream",
     "text": [
      "(49158, 7)\n"
     ]
    },
    {
     "data": {
      "text/plain": [
       "Date       object\n",
       "Name       object\n",
       "Open      float64\n",
       "High      float64\n",
       "Low       float64\n",
       "Close     float64\n",
       "Volume    float64\n",
       "dtype: object"
      ]
     },
     "execution_count": 4,
     "metadata": {},
     "output_type": "execute_result"
    }
   ],
   "source": [
    "print(stock_data.shape)\n",
    "\n",
    "# Check the data types\n",
    "stock_data.dtypes\n"
   ]
  },
  {
   "cell_type": "code",
   "execution_count": 5,
   "id": "bc6f3536",
   "metadata": {},
   "outputs": [],
   "source": [
    "# Convert 'Date' column to datetime format\n",
    "stock_data['Date'] = pd.to_datetime(stock_data['Date'], dayfirst = True)"
   ]
  },
  {
   "cell_type": "code",
   "execution_count": 6,
   "id": "7b70a147",
   "metadata": {},
   "outputs": [
    {
     "data": {
      "text/plain": [
       "Date      datetime64[ns]\n",
       "Name              object\n",
       "Open             float64\n",
       "High             float64\n",
       "Low              float64\n",
       "Close            float64\n",
       "Volume           float64\n",
       "dtype: object"
      ]
     },
     "execution_count": 6,
     "metadata": {},
     "output_type": "execute_result"
    }
   ],
   "source": [
    "stock_data.dtypes"
   ]
  },
  {
   "cell_type": "markdown",
   "id": "73657922",
   "metadata": {},
   "source": [
    "# Part 3: Volatility Analysis:"
   ]
  },
  {
   "cell_type": "markdown",
   "id": "15ac57bb",
   "metadata": {},
   "source": [
    "# Calculate and plot the rolling standard deviation of the 'Close' prices.\n"
   ]
  },
  {
   "cell_type": "code",
   "execution_count": 7,
   "id": "f606d677",
   "metadata": {},
   "outputs": [
    {
     "ename": "NameError",
     "evalue": "name 'top_5_companies' is not defined",
     "output_type": "error",
     "traceback": [
      "\u001b[1;31m---------------------------------------------------------------------------\u001b[0m",
      "\u001b[1;31mNameError\u001b[0m                                 Traceback (most recent call last)",
      "Cell \u001b[1;32mIn[7], line 3\u001b[0m\n\u001b[0;32m      1\u001b[0m \u001b[38;5;66;03m# Calculate and plot rolling standard deviation for each of the top 5 companies\u001b[39;00m\n\u001b[0;32m      2\u001b[0m plt\u001b[38;5;241m.\u001b[39mfigure(figsize\u001b[38;5;241m=\u001b[39m(\u001b[38;5;241m12\u001b[39m, \u001b[38;5;241m6\u001b[39m))\n\u001b[1;32m----> 3\u001b[0m \u001b[38;5;28;01mfor\u001b[39;00m name \u001b[38;5;129;01min\u001b[39;00m top_5_companies:\n\u001b[0;32m      4\u001b[0m     company_data \u001b[38;5;241m=\u001b[39m stock_data[stock_data[\u001b[38;5;124m'\u001b[39m\u001b[38;5;124mName\u001b[39m\u001b[38;5;124m'\u001b[39m] \u001b[38;5;241m==\u001b[39m name]\n\u001b[0;32m      5\u001b[0m     company_data[\u001b[38;5;124m'\u001b[39m\u001b[38;5;124mRolling_Std\u001b[39m\u001b[38;5;124m'\u001b[39m] \u001b[38;5;241m=\u001b[39m company_data[\u001b[38;5;124m'\u001b[39m\u001b[38;5;124mClose\u001b[39m\u001b[38;5;124m'\u001b[39m]\u001b[38;5;241m.\u001b[39mrolling(window \u001b[38;5;241m=\u001b[39m \u001b[38;5;241m30\u001b[39m)\u001b[38;5;241m.\u001b[39mstd()\n",
      "\u001b[1;31mNameError\u001b[0m: name 'top_5_companies' is not defined"
     ]
    },
    {
     "data": {
      "text/plain": [
       "<Figure size 1200x600 with 0 Axes>"
      ]
     },
     "metadata": {},
     "output_type": "display_data"
    }
   ],
   "source": [
    "# Calculate and plot rolling standard deviation for each of the top 5 companies\n",
    "plt.figure(figsize=(12, 6))\n",
    "for name in top_5_companies:\n",
    "    company_data = stock_data[stock_data['Name'] == name]\n",
    "    company_data['Rolling_Std'] = company_data['Close'].rolling(window = 30).std()\n",
    "    plt.plot(company_data['Date'], company_data['Rolling_Std'], label = f'{name}')\n",
    "\n",
    "plt.title(f'Rolling Standard Deviation (30-day) of Close Prices')\n",
    "plt.xlabel('Date')\n",
    "plt.ylabel('Rolling Standard Deviation')\n",
    "plt.legend()\n",
    "plt.grid()\n",
    "plt.xticks(rotation = 45)\n",
    "plt.show()\n"
   ]
  },
  {
   "cell_type": "markdown",
   "id": "dafd16d7",
   "metadata": {},
   "source": [
    "# Create a new column for daily price change (Close - Open)"
   ]
  },
  {
   "cell_type": "code",
   "execution_count": null,
   "id": "b14579d8",
   "metadata": {},
   "outputs": [],
   "source": [
    "stock_data['Daily_Price_Change'] = stock_data['Close'] - stock_data['Open']\n",
    "\n",
    "# Display the updated DataFrame with the new column\n",
    "stock_data.head()\n"
   ]
  },
  {
   "cell_type": "markdown",
   "id": "fce48094",
   "metadata": {},
   "source": [
    "# Analyze the distribution of daily price changes."
   ]
  },
  {
   "cell_type": "code",
   "execution_count": null,
   "id": "e1f3874b",
   "metadata": {},
   "outputs": [],
   "source": [
    "# Analyze distribution of daily price changes for top 5 companies\n",
    "for name in top_5_companies:\n",
    "    company_data = stock_data[stock_data['Name'] == name]\n",
    "\n",
    "    plt.figure(figsize=(8, 6))\n",
    "    plt.hist(company_data['Daily_Price_Change'], bins = 30, edgecolor='black')\n",
    "    plt.title(f'Distribution of Daily Price Changes for {name}')\n",
    "    plt.xlabel('Daily Price Change')\n",
    "    plt.ylabel('Frequency')\n",
    "    plt.grid(axis = 'y', alpha = 0.5)\n",
    "    plt.show()\n"
   ]
  },
  {
   "cell_type": "markdown",
   "id": "ffe6bca2",
   "metadata": {},
   "source": [
    "# Identify days with the largest price increases and decreases."
   ]
  },
  {
   "cell_type": "code",
   "execution_count": null,
   "id": "1f233a8a",
   "metadata": {},
   "outputs": [],
   "source": [
    "largest_increase_day = stock_data.loc[stock_data['Daily_Price_Change'].idxmax()]\n",
    "largest_decrease_day = stock_data.loc[stock_data['Daily_Price_Change'].idxmin()]\n",
    "\n",
    "print(\"Days with the Largest Price Increases:\")\n",
    "print(largest_increase_day)\n",
    "\n",
    "print(\"\\nDays with the Largest Price Decreases:\")\n",
    "print(largest_decrease_day)\n"
   ]
  },
  {
   "cell_type": "markdown",
   "id": "66d7ff2f",
   "metadata": {},
   "source": [
    "# Identify stocks with unusually high trading volume on certain days."
   ]
  },
  {
   "cell_type": "code",
   "execution_count": null,
   "id": "206ef8a7",
   "metadata": {},
   "outputs": [],
   "source": [
    "for name in top_5_companies:\n",
    "    company_data = stock_data[stock_data['Name'] == name]\n",
    "    plt.plot(company_data['Date'],company_data['Volume'],label = name)\n",
    "\n",
    "    threshold = company_data['Volume'].quantile(0.95)\n",
    "    unusual_high_volume_data = company_data[company_data['Volume'] > threshold]\n",
    "    plt.scatter(unusual_high_volume_data['Date'], unusual_high_volume_data['Volume'], color=\"red\", marker='o', label=\"{} - Unusual High Volume Days\".format(name))\n",
    "\n",
    "    plt.title('Trading Volume Over Time with Emphasis on Unusually High Volume Days')\n",
    "    plt.xlabel('Date')\n",
    "    plt.ylabel('Trading Volume')\n",
    "    plt.legend()\n",
    "    plt.show()\n"
   ]
  },
  {
   "cell_type": "markdown",
   "id": "9d0fbee8",
   "metadata": {},
   "source": [
    "# Part 4: Correlation and Heatmaps"
   ]
  },
  {
   "cell_type": "markdown",
   "id": "b8e1fad2",
   "metadata": {},
   "source": [
    "# Explore the relationship between trading volume and volatility."
   ]
  },
  {
   "cell_type": "code",
   "execution_count": null,
   "id": "767912e7",
   "metadata": {},
   "outputs": [],
   "source": [
    "for name in top_5_companies:\n",
    "    company_data = stock_data[stock_data['Name'] == name]\n",
    "\n",
    "    # Plotting the relationship between trading volume and volatility with regression line\n",
    "    plt.figure(figsize = (8, 5))\n",
    "    company_data['Rolling_Std'] = company_data['Close'].rolling(window = 30).std()\n",
    "    # Remove rows with missing values\n",
    "    company_data_cleaned = company_data.dropna(subset = ['Volume', 'Rolling_Std'])\n",
    "\n",
    "    # Scatter plot with regression line\n",
    "    sns.regplot(x = company_data_cleaned['Volume'], y = company_data_cleaned['Rolling_Std'])\n",
    "    plt.title(f'Relationship between Trading Volume and Volatility for {name}')\n",
    "    plt.xlabel('Trading Volume')\n",
    "    plt.ylabel('Volatility')\n",
    "\n",
    "    # Calculate and print the correlation coefficient\n",
    "    correlation_coefficient = np.corrcoef(company_data_cleaned['Volume'], company_data_cleaned['Rolling_Std'])[0, 1]\n",
    "    print(f'Correlation Coefficient of {name}: {correlation_coefficient:.2f}')\n",
    "\n",
    "    plt.show()\n"
   ]
  },
  {
   "cell_type": "markdown",
   "id": "1a171f35",
   "metadata": {},
   "source": [
    "# Calculate the correlation matrix between the 'Open' & 'High', 'Low' &'Close' prices."
   ]
  },
  {
   "cell_type": "code",
   "execution_count": null,
   "id": "45de2da8",
   "metadata": {},
   "outputs": [],
   "source": [
    "# Iterate over each top company\n",
    "for name in top_5_companies:\n",
    "    # Filter data for the current company\n",
    "    company_data = stock_data[stock_data['Name'] == name]\n",
    "\n",
    "    # Calculate correlation matrix\n",
    "    correlation_matrix = company_data[['Open', 'High', 'Low', 'Close']].corr()\n",
    "\n",
    "    print(f'Correlation Matrix of {name}:\\n{correlation_matrix}\\n')\n"
   ]
  },
  {
   "cell_type": "markdown",
   "id": "10c4f5df",
   "metadata": {},
   "source": [
    "# Create a heatmap to visualize the correlations using theseabornpackage."
   ]
  },
  {
   "cell_type": "code",
   "execution_count": null,
   "id": "c4e27bf5",
   "metadata": {},
   "outputs": [],
   "source": [
    "# Iterate over each top company\n",
    "for name in top_5_companies:\n",
    "    # Filter data for the current company\n",
    "    company_data = stock_data[stock_data['Name'] == name]\n",
    "\n",
    "    # Calculate correlation matrix\n",
    "    correlation_matrix = company_data[['Open', 'High', 'Low', 'Close']].corr()\n",
    "\n",
    "    # Create heatmap\n",
    "    plt.figure(figsize=(6, 4))\n",
    "    sns.heatmap(correlation_matrix, annot=True, cmap = 'coolwarm', fmt='.3f', linewidths = .5)\n",
    "    plt.title(f'Correlation Matrix Heatmap for {name}')\n",
    "    plt.show()\n"
   ]
  },
  {
   "cell_type": "code",
   "execution_count": null,
   "id": "8f22ce03",
   "metadata": {},
   "outputs": [],
   "source": []
  }
 ],
 "metadata": {
  "kernelspec": {
   "display_name": "Python 3 (ipykernel)",
   "language": "python",
   "name": "python3"
  },
  "language_info": {
   "codemirror_mode": {
    "name": "ipython",
    "version": 3
   },
   "file_extension": ".py",
   "mimetype": "text/x-python",
   "name": "python",
   "nbconvert_exporter": "python",
   "pygments_lexer": "ipython3",
   "version": "3.11.5"
  }
 },
 "nbformat": 4,
 "nbformat_minor": 5
}
